{
 "cells": [
  {
   "cell_type": "code",
   "execution_count": 1,
   "metadata": {},
   "outputs": [
    {
     "ename": "ImportError",
     "evalue": "cannot import name 'json' from 'json' (C:\\Users\\fbockni\\AppData\\Local\\Continuum\\anaconda3\\envs\\new_pytorch_100\\lib\\json\\__init__.py)",
     "output_type": "error",
     "traceback": [
      "\u001b[1;31m---------------------------------------------------------------------------\u001b[0m",
      "\u001b[1;31mImportError\u001b[0m                               Traceback (most recent call last)",
      "\u001b[1;32m<ipython-input-1-631885734911>\u001b[0m in \u001b[0;36m<module>\u001b[1;34m\u001b[0m\n\u001b[0;32m      1\u001b[0m \u001b[1;32mfrom\u001b[0m \u001b[0mrequestWorksV3\u001b[0m \u001b[1;32mimport\u001b[0m \u001b[1;33m*\u001b[0m\u001b[1;33m\u001b[0m\u001b[1;33m\u001b[0m\u001b[0m\n\u001b[1;32m----> 2\u001b[1;33m \u001b[1;32mfrom\u001b[0m \u001b[0mjson\u001b[0m \u001b[1;32mimport\u001b[0m \u001b[0mjson\u001b[0m\u001b[1;33m\u001b[0m\u001b[1;33m\u001b[0m\u001b[0m\n\u001b[0m",
      "\u001b[1;31mImportError\u001b[0m: cannot import name 'json' from 'json' (C:\\Users\\fbockni\\AppData\\Local\\Continuum\\anaconda3\\envs\\new_pytorch_100\\lib\\json\\__init__.py)"
     ]
    }
   ],
   "source": [
    "from requestWorksV3 import *\n",
    "from json import json"
   ]
  },
  {
   "cell_type": "code",
   "execution_count": 2,
   "metadata": {},
   "outputs": [],
   "source": [
    "db_engine = create_engine('sqlite:///cov/COV.sqllite', echo=False)\n",
    "Session.configure(bind=db_engine)\n",
    "db_session = Session()"
   ]
  },
  {
   "cell_type": "code",
   "execution_count": null,
   "metadata": {},
   "outputs": [],
   "source": []
  },
  {
   "cell_type": "code",
   "execution_count": 3,
   "metadata": {},
   "outputs": [],
   "source": [
    "name_affiliation_tuples = []\n",
    "\n",
    "doi2str = {}\n",
    "doi2id = {}\n",
    "\n",
    "for res in db_session.query(CrossRefWork).yield_per(1000):\n",
    "    #print(work)\n",
    "    work = json.loads(res.json_content)\n",
    "    doi = res.doi\n",
    "    doi2str[res.doi] = str(res)\n",
    "    doi2id[res.doi] = res.id\n",
    "    \n",
    "    if \"author\" in work:\n",
    "        for author in work[\"author\"]:\n",
    "            if \"affiliation\" in author:\n",
    "                try:\n",
    "                    family_name = author[\"family\"]\n",
    "                    given_name = author[\"given\"]                \n",
    "                    for affiliation in author[\"affiliation\"]:\n",
    "                        if \"name\" in affiliation:\n",
    "                            affiliation_name = affiliation[\"name\"]\n",
    "                            name_affiliation_tuples.append((doi, family_name, given_name, affiliation_name))\n",
    "                except KeyError:\n",
    "                    continue"
   ]
  },
  {
   "cell_type": "code",
   "execution_count": 4,
   "metadata": {},
   "outputs": [
    {
     "data": {
      "text/plain": [
       "233335"
      ]
     },
     "execution_count": 4,
     "metadata": {},
     "output_type": "execute_result"
    }
   ],
   "source": [
    "len(name_affiliation_tuples)"
   ]
  },
  {
   "cell_type": "code",
   "execution_count": 5,
   "metadata": {},
   "outputs": [],
   "source": [
    "for doi, family_name, given_name, affiliation_name in name_affiliation_tuples:\n",
    "    #if family_name == \"Branke\":\n",
    "    if \"volkswagen\" in affiliation_name.lower():\n",
    "        print(doi, family_name, given_name, affiliation_name)\n",
    "        print(doi2str[doi])\n",
    "        print()"
   ]
  },
  {
   "cell_type": "code",
   "execution_count": null,
   "metadata": {},
   "outputs": [],
   "source": []
  }
 ],
 "metadata": {
  "kernelspec": {
   "display_name": "Python 3",
   "language": "python",
   "name": "python3"
  },
  "language_info": {
   "codemirror_mode": {
    "name": "ipython",
    "version": 3
   },
   "file_extension": ".py",
   "mimetype": "text/x-python",
   "name": "python",
   "nbconvert_exporter": "python",
   "pygments_lexer": "ipython3",
   "version": "3.7.2"
  }
 },
 "nbformat": 4,
 "nbformat_minor": 2
}
